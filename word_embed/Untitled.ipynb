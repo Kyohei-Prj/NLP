{
 "cells": [
  {
   "cell_type": "code",
   "execution_count": 1,
   "metadata": {
    "collapsed": false
   },
   "outputs": [],
   "source": [
    "from gensim.models.fasttext import FastText as FT\n",
    "\n",
    "model = FT(size=150, window=5, min_count=3, workers=4)"
   ]
  },
  {
   "cell_type": "code",
   "execution_count": 5,
   "metadata": {
    "collapsed": false
   },
   "outputs": [],
   "source": [
    "from gensim.utils import tokenize\n",
    "from gensim import utils\n",
    "\n",
    "class DocIter:\n",
    "    def __iter__(self):\n",
    "        path = '../data/wikipedia/processed_text/AA/wiki_01'\n",
    "        with utils.open(path, 'r', encoding='utf-8') as fin:\n",
    "            for line in fin:\n",
    "                yield list(tokenize(line))"
   ]
  },
  {
   "cell_type": "code",
   "execution_count": 3,
   "metadata": {
    "collapsed": false
   },
   "outputs": [],
   "source": [
    "model.build_vocab(sentences=DocIter())"
   ]
  },
  {
   "cell_type": "code",
   "execution_count": 4,
   "metadata": {
    "collapsed": false
   },
   "outputs": [
    {
     "name": "stdout",
     "output_type": "stream",
     "text": [
      "5\n",
      "1\n",
      "146575\n"
     ]
    }
   ],
   "source": [
    "print(model.epochs)\n",
    "print(model.corpus_count)\n",
    "print(model.corpus_total_words)"
   ]
  },
  {
   "cell_type": "code",
   "execution_count": 6,
   "metadata": {
    "collapsed": false
   },
   "outputs": [],
   "source": [
    "model.train(corpus_file='../data/wikipedia/processed_text/AA/wiki_00', epochs=model.epochs, total_examples=model.corpus_count, total_words=model.corpus_total_words, model='skipgram')"
   ]
  },
  {
   "cell_type": "code",
   "execution_count": 7,
   "metadata": {
    "collapsed": false
   },
   "outputs": [
    {
     "name": "stdout",
     "output_type": "stream",
     "text": [
      "4997\n",
      "<class 'dict'>\n",
      "アンパサンド\n",
      "と\n",
      "は\n",
      "並立\n",
      "助詞\n",
      "を\n",
      "意味\n",
      "する\n",
      "記号\n",
      "で\n",
      "ある\n",
      "ラテン語\n"
     ]
    }
   ],
   "source": [
    "print(len(model.wv.vocab))\n",
    "\n",
    "print(type(model.wv.vocab))\n",
    "for i, key in enumerate(model.wv.vocab.keys()):\n",
    "    print(key)\n",
    "    if i > 10:\n",
    "        break"
   ]
  },
  {
   "cell_type": "code",
   "execution_count": 8,
   "metadata": {
    "collapsed": false
   },
   "outputs": [],
   "source": [
    "model.build_vocab(sentences=DocIter(), update=True)"
   ]
  },
  {
   "cell_type": "code",
   "execution_count": 9,
   "metadata": {
    "collapsed": false
   },
   "outputs": [
    {
     "name": "stdout",
     "output_type": "stream",
     "text": [
      "5\n",
      "1\n",
      "139221\n"
     ]
    }
   ],
   "source": [
    "print(model.epochs)\n",
    "print(model.corpus_count)\n",
    "print(model.corpus_total_words)"
   ]
  },
  {
   "cell_type": "code",
   "execution_count": 10,
   "metadata": {
    "collapsed": false
   },
   "outputs": [],
   "source": [
    "model.train(corpus_file='../data/wikipedia/processed_text/AA/wiki_01', epochs=model.epochs, total_examples=model.corpus_count, total_words=model.corpus_total_words, model='skipgram')"
   ]
  },
  {
   "cell_type": "code",
   "execution_count": 11,
   "metadata": {
    "collapsed": false
   },
   "outputs": [
    {
     "name": "stdout",
     "output_type": "stream",
     "text": [
      "7675\n",
      "<class 'dict'>\n",
      "アンパサンド\n",
      "と\n",
      "は\n",
      "並立\n",
      "助詞\n",
      "を\n",
      "意味\n",
      "する\n",
      "記号\n",
      "で\n",
      "ある\n",
      "ラテン語\n"
     ]
    }
   ],
   "source": [
    "print(len(model.wv.vocab))\n",
    "print(type(model.wv.vocab))\n",
    "for i, key in enumerate(model.wv.vocab.keys()):\n",
    "    print(key)\n",
    "    if i > 10:\n",
    "        break"
   ]
  },
  {
   "cell_type": "code",
   "execution_count": 12,
   "metadata": {
    "collapsed": false
   },
   "outputs": [
    {
     "name": "stdout",
     "output_type": "stream",
     "text": [
      "83788\n"
     ]
    }
   ],
   "source": [
    "sample_model = FT.load('sample_model')\n",
    "print(len(sample_model.wv.vocab))"
   ]
  },
  {
   "cell_type": "code",
   "execution_count": 17,
   "metadata": {
    "collapsed": false
   },
   "outputs": [
    {
     "name": "stdout",
     "output_type": "stream",
     "text": [
      "[('羽生', 0.8592649102210999), ('永世竜王', 0.8537279367446899), ('王将戦', 0.8500372767448425), ('番勝負', 0.8473347425460815), ('棋聖', 0.846699059009552), ('全勝', 0.8422402143478394), ('勝ち残り', 0.8419754505157471), ('全勝優勝', 0.8397946357727051), ('谷川貞治', 0.8370012640953064), ('勝ち点差', 0.8362863659858704)]\n"
     ]
    }
   ],
   "source": [
    "print(sample_model.wv.most_similar('王将'))"
   ]
  }
 ],
 "metadata": {
  "kernelspec": {
   "argv": [
    "python",
    "-m",
    "ipykernel_launcher",
    "-f",
    "{connection_file}"
   ],
   "display_name": "Python 3",
   "env": null,
   "interrupt_mode": "signal",
   "language": "python",
   "metadata": null,
   "name": "python3"
  },
  "name": "Untitled.ipynb"
 },
 "nbformat": 4,
 "nbformat_minor": 4
}
