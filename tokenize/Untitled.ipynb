{
 "cells": [
  {
   "cell_type": "code",
   "execution_count": 57,
   "metadata": {
    "collapsed": false
   },
   "outputs": [],
   "source": [
    "with open('../data/wikipedia/text/AA/wiki_00', mode='r', encoding='utf-8') as f:\n",
    "    text = f.readlines()"
   ]
  },
  {
   "cell_type": "code",
   "execution_count": 58,
   "metadata": {
    "collapsed": false
   },
   "outputs": [
    {
     "name": "stdout",
     "output_type": "stream",
     "text": [
      "<class 'list'>\n",
      "4782\n",
      "No.0: <doc id=\"5\" url=\"https://ja.wikipedia.org/wiki?curid=5\" title=\"アンパサンド\">\n",
      "\n",
      "No.1: アンパサンド\n",
      "\n",
      "No.2: \n",
      "\n",
      "No.3: アンパサンド (&、英語名：) とは並立助詞「…と…」を意味する記号である。ラテン語の の合字で、Trebuchet MSフォントでは、と表示され \"et\" の合字であることが容易にわかる。ampersa、すなわち \"and per se and\"、その意味は\"and [the symbol which] by itself [is] and\"である。\n",
      "\n",
      "No.4: \n",
      "\n",
      "No.5: その使用は1世紀に遡ることができ、5世紀中葉から現代に至るまでの変遷がわかる。\n",
      "\n",
      "No.6: Z に続くラテン文字アルファベットの27字目とされた時期もある。\n",
      "\n",
      "No.7: \n",
      "\n",
      "No.8: アンパサンドと同じ役割を果たす文字に「のet」と呼ばれる、数字の「7」に似た記号があった(, U+204A)。この記号は現在もゲール文字で使われている。\n",
      "\n",
      "No.9: \n",
      "\n",
      "No.10: 記号名の「アンパサンド」は、ラテン語まじりの英語「& はそれ自身 \"and\" を表す」(& per se and) のくずれた形である。英語以外の言語での名称は多様である。\n",
      "\n",
      "No.11: \n",
      "\n"
     ]
    }
   ],
   "source": [
    "print(type(text))\n",
    "print(len(text))\n",
    "\n",
    "for i, sentence in enumerate(text):\n",
    "    print('No.{}: {}'.format(i, sentence))\n",
    "    if i > 10:\n",
    "        break"
   ]
  },
  {
   "cell_type": "code",
   "execution_count": 70,
   "metadata": {
    "collapsed": false
   },
   "outputs": [],
   "source": [
    "import neologdn\n",
    "\n",
    "text_norm = [neologdn.normalize(sentence, repeat=2).lower() for sentence in text]\n",
    "\n",
    "\n",
    "import re\n",
    "\n",
    "def replacer(text, pattern, replace):\n",
    "\n",
    "    return [re.sub(pattern, replace, sentence) for sentence in text]\n",
    "\n",
    "pattern = r'<.+>'\n",
    "replace = ''\n",
    "text_clean = replacer(text_norm, pattern, replace)\n",
    "\n",
    "rm_zero = r'\\d+'\n",
    "replace = '0'\n",
    "text_clean = replacer(text_clean, rm_zero, replace)\n",
    "\n",
    "text_clean = [code_regex.sub('', sentence) for sentence in text_clean]\n",
    "text_clean = [sentence.rstrip()for sentence in text_clean]"
   ]
  },
  {
   "cell_type": "code",
   "execution_count": 71,
   "metadata": {
    "collapsed": false
   },
   "outputs": [],
   "source": [
    "pattern = r'[、。「」〈〉『』【】＆＊・（）＄＃＠。、？！｀＋￥％：〔〕“”!\"#$%&()*+,-./:;<=>?@^_`{|}~]'\n",
    "replace = ''\n",
    "text_clean = replacer(text_clean, pattern, replace)"
   ]
  },
  {
   "cell_type": "code",
   "execution_count": 72,
   "metadata": {
    "collapsed": false
   },
   "outputs": [
    {
     "name": "stdout",
     "output_type": "stream",
     "text": [
      "4782\n",
      "<class 'list'>\n",
      "['', 'アンパサンド', '', 'アンパサンド英語名とは並立助詞…と…を意味する記号であるラテン語のの合字でtrebuchet msフォントではと表示されetの合字であることが容易にわかるampersaすなわちand per se andその意味はand [the symbol which] by itself [is] andである', '', 'その使用は0世紀に遡ることができ0世紀中葉から現代に至るまでの変遷がわかる', 'zに続くラテン文字アルファベットの0字目とされた時期もある', '', 'アンパサンドと同じ役割を果たす文字にのetと呼ばれる数字の0に似た記号があった u0aこの記号は現在もゲール文字で使われている', '']\n"
     ]
    }
   ],
   "source": [
    "print(len(text_clean))\n",
    "print(type(text_clean))\n",
    "print(text_clean[0:10])"
   ]
  },
  {
   "cell_type": "code",
   "execution_count": 73,
   "metadata": {
    "collapsed": false
   },
   "outputs": [
    {
     "name": "stdout",
     "output_type": "stream",
     "text": [
      "../data/wikipedia/processed_text/AA/\n"
     ]
    }
   ],
   "source": [
    "path_read = '../data/wikipedia/text/AA/'\n",
    "path_save = '../data/wikipedia/processed_text/'\n",
    "path_file = '../data/wikipedia/text/AA/wiki_00'\n",
    "\n",
    "ch_save = path_read.replace('text', 'processed_text')\n",
    "print(ch_save)"
   ]
  }
 ],
 "metadata": {
  "kernelspec": {
   "argv": [
    "python",
    "-m",
    "ipykernel_launcher",
    "-f",
    "{connection_file}"
   ],
   "display_name": "Python 3",
   "env": null,
   "interrupt_mode": "signal",
   "language": "python",
   "metadata": null,
   "name": "python3"
  },
  "name": "Untitled.ipynb"
 },
 "nbformat": 4,
 "nbformat_minor": 4
}
