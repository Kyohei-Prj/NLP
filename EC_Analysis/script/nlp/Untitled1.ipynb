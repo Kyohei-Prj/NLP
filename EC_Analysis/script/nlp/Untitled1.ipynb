{
 "cells": [
  {
   "cell_type": "code",
   "execution_count": 1,
   "metadata": {
    "collapsed": false
   },
   "outputs": [],
   "source": [
    "from janome.tokenizer import Tokenizer\n",
    "from janome.analyzer import Analyzer\n",
    "from janome.tokenfilter import POSStopFilter\n",
    "from sklearn.feature_extraction.text import TfidfVectorizer\n",
    "import pandas as pd\n",
    "import sys"
   ]
  },
  {
   "cell_type": "code",
   "execution_count": 3,
   "metadata": {
    "collapsed": false
   },
   "outputs": [
    {
     "name": "stdout",
     "output_type": "stream",
     "text": [
      "                                             スマートフォン  \\\n",
      "0  \\n【セット割】ASUS Zenfone Max M2 ミッドナイトブラック (4GB/64...   \n",
      "1  \\n【セット割】ASUS Zenfone Max Pro M2 ミッドナイトブルー (6GB...   \n",
      "2  \\nスマホ 本体 Blackview BV5900 simフリー スマートフォン 本体 4G...   \n",
      "\n",
      "                                                エプソン  \\\n",
      "0     \\nエプソン プリンター インクジェット複合機 カラリオ EP-883AR レッド(赤)\\n   \n",
      "1  \\nインクのチップス エプソン用 MUG-BK 互換インク ブラック 4本セット (マグカッ...   \n",
      "2     \\nエプソン用 ITH(イチョウ)互換インク ITH-6CL 互換 6色+黒1本 計7本\\n   \n",
      "\n",
      "                                               化粧落とし  \n",
      "0  \\nファンケル (FANCL) 新マイルドクレンジング オイル 1本 120mL (約60回...  \n",
      "1  \\nkikimate キキメイト クレンジングジェル メイク落とし クレンジングフォーム【W...  \n",
      "2  \\nDove(ダヴ) ダヴ ボタニカルセレクション ポアビューティー 限定処方 オイルクレン...  \n"
     ]
    }
   ],
   "source": [
    "df = pd.read_csv('../../data/scraped_text/amazon_product_name.csv')\n",
    "df.reset_index(inplace=True, drop=True)\n",
    "print(df.head(3))"
   ]
  },
  {
   "cell_type": "code",
   "execution_count": 4,
   "metadata": {
    "collapsed": false
   },
   "outputs": [],
   "source": [
    "def tokenize(df):\n",
    "\n",
    "    tokenizer = Tokenizer()\n",
    "    token_filters = [POSStopFilter(['記号', '助詞', '助動詞'])]\n",
    "    analysis = Analyzer(tokenizer=tokenizer, token_filters=token_filters)\n",
    "\n",
    "    corpus = []\n",
    "    for col in df.columns.to_list():\n",
    "        df_tmp = df[col].dropna()\n",
    "        sentence_concat = concat_str(df_tmp.values)\n",
    "        token = analysis.analyze(sentence_concat)\n",
    "        word_list = [word.surface for word in token]\n",
    "        word_concat = concat_str(word_list)\n",
    "        corpus.append(word_concat)\n",
    "\n",
    "    return corpus"
   ]
  },
  {
   "cell_type": "code",
   "execution_count": 5,
   "metadata": {
    "collapsed": false
   },
   "outputs": [],
   "source": [
    "def concat_str(string_list):\n",
    "\n",
    "    string_concat = ''\n",
    "    for string in string_list:\n",
    "        string_concat = string_concat + string + ' '\n",
    "\n",
    "    return string_concat"
   ]
  },
  {
   "cell_type": "code",
   "execution_count": 8,
   "metadata": {
    "collapsed": false
   },
   "outputs": [
    {
     "name": "stdout",
     "output_type": "stream",
     "text": [
      "セット 割\n"
     ]
    }
   ],
   "source": [
    "corpus = tokenize(df)\n",
    "print(corpus[0][0:5])"
   ]
  },
  {
   "cell_type": "code",
   "execution_count": 9,
   "metadata": {
    "collapsed": false
   },
   "outputs": [],
   "source": [
    "def calc_tfidf(corpus):\n",
    "\n",
    "    vec = TfidfVectorizer()\n",
    "    tfidf = vec.fit_transform(corpus).toarray()\n",
    "    features = vec.get_feature_names()\n",
    "\n",
    "    return features, tfidf"
   ]
  },
  {
   "cell_type": "code",
   "execution_count": 22,
   "metadata": {
    "collapsed": false
   },
   "outputs": [
    {
     "name": "stdout",
     "output_type": "stream",
     "text": [
      "features size:  1276\n",
      "['3700', '39', '3900', '400', '4000']\n",
      "tfidf size:  (3, 1276)\n",
      "[0.         0.00352659 0.00352659 0.         0.01410637]\n"
     ]
    }
   ],
   "source": [
    "features, tfidf = calc_tfidf(corpus)\n",
    "print('features size: ', len(features))\n",
    "print(features[100:105])\n",
    "print('tfidf size: ', tfidf.shape)\n",
    "print(tfidf[0][100:105])\n"
   ]
  },
  {
   "cell_type": "code",
   "execution_count": 23,
   "metadata": {
    "collapsed": false
   },
   "outputs": [],
   "source": [
    "def sort_result(features, tfidf):\n",
    "\n",
    "    result_list = []\n",
    "    for values in tfidf:\n",
    "        result_dict = dict(zip(features, values))\n",
    "        result_dict_sort = {\n",
    "            ky: val\n",
    "            for ky, val in sorted(result_dict.items(),\n",
    "                                  key=lambda item: item[1], reverse=True)\n",
    "        }\n",
    "        result_list.append(result_dict_sort)\n",
    "\n",
    "    return result_list"
   ]
  },
  {
   "cell_type": "code",
   "execution_count": 24,
   "metadata": {
    "collapsed": false
   },
   "outputs": [],
   "source": [
    "result_list = sort_result(features, tfidf)"
   ]
  },
  {
   "cell_type": "code",
   "execution_count": 25,
   "metadata": {
    "collapsed": false
   },
   "outputs": [
    {
     "name": "stdout",
     "output_type": "stream",
     "text": [
      "<class 'list'>\n",
      "1276\n",
      "1276\n",
      "1276\n"
     ]
    }
   ],
   "source": [
    "print(type(result_list))\n",
    "for result in result_list:\n",
    "    print(len(result))"
   ]
  }
 ],
 "metadata": {
  "kernelspec": {
   "argv": [
    "python",
    "-m",
    "ipykernel_launcher",
    "-f",
    "{connection_file}"
   ],
   "display_name": "Python 3",
   "env": null,
   "interrupt_mode": "signal",
   "language": "python",
   "metadata": null,
   "name": "python3"
  },
  "name": "Untitled1.ipynb"
 },
 "nbformat": 4,
 "nbformat_minor": 4
}
